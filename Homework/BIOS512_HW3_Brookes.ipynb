{
 "cells": [
  {
   "cell_type": "markdown",
   "id": "45ef956f",
   "metadata": {},
   "source": [
    "# Homework 03 - Nonstandard Evaluation and Git\n",
    "\n",
    "## Nonstandard Evaluation\n"
   ]
  },
  {
   "cell_type": "markdown",
   "id": "b75c84fa-dffd-4c7f-9c10-cabcb212870b",
   "metadata": {
    "vscode": {
     "languageId": "r"
    }
   },
   "source": [
    "### Question 1\n",
    "Imagine we have a data frame called `data`, with a `type` column. Which one works and why?\\\n",
    "Function 1:\n",
    "```\n",
    "group_and_tally <- function(df, column){\n",
    "    df %>% group_by({{ column }}) %>% tally();\n",
    "}\n",
    "group_and_tally(data, type);\n",
    "```\n",
    "\n",
    "Function 2:\n",
    "```\n",
    "group_and_tally <- function(df, column){\n",
    "    df %>% group_by(column) %>% tally();\n",
    "}\n",
    "group_and_tally(data, type);\n",
    "```\n",
    "### Q1 Answer\n",
    "<span style=\"color:purple\">Function 1 works because it includes the embrace symbols `{{ }}`. The embrace symbols are needed in tidyverse because otherwise the funciton will try to process `column` as an object instead of looking for the column name `type` (which is what is happening in Funciton 2).<span>"
   ]
  },
  {
   "cell_type": "markdown",
   "id": "d0653501",
   "metadata": {},
   "source": [
    "## Git\n",
    "For the questions below, please add the commands you used to complete these steps.\n",
    "\n",
    "### Question 2\n",
    "Set up your git repo on your local computer. If you already make a git repo on GitHub, but it isn’t on your local computer - clone it."
   ]
  },
  {
   "cell_type": "raw",
   "id": "52955f54-5ad1-4574-9c38-63b9fe3b6a2d",
   "metadata": {},
   "source": [
    "mkdir -p ~/git/BIOS512\n",
    "cd ~/git/BIOS512\n",
    "cat <<EOF > README.md #BIOS512 Course \n",
    "    This is for the BIOS512 Course, Fall 2025. \n",
    "    author: Jama-Brookes\n",
    "        EOF\n",
    "git init\n",
    "git add README.md\n",
    "git commit -m \"First commit\"\n",
    "git branch -M main\n",
    "git remote add origin git@github.com:Jama-Brookes/BIOS512.git\n",
    "git push -u origin main"
   ]
  },
  {
   "cell_type": "markdown",
   "id": "9639ba6c",
   "metadata": {
    "vscode": {
     "languageId": "shellscript"
    }
   },
   "source": [
    "### Question 3\n",
    "Set up your SSH key."
   ]
  },
  {
   "cell_type": "raw",
   "id": "f4ac16ad-d183-4191-a65d-f45b74ba5f17",
   "metadata": {},
   "source": [
    "cd /tmp/\n",
    "mkdir ssh-keys\n",
    "cd ssh-keys/\n",
    "ssh-keyge\n",
    "cat ~/.ssh/id_ed25519.pub"
   ]
  },
  {
   "cell_type": "markdown",
   "id": "2e1bae91-a4ea-44ba-b2b8-b2ff77e155a7",
   "metadata": {},
   "source": [
    "<span style=\"color:purple\">Then this SSH key was copied added to Git Hub via Settings > SSH and GPG keys.<span>"
   ]
  },
  {
   "cell_type": "markdown",
   "id": "bcd83789",
   "metadata": {},
   "source": [
    "### Question 4\n",
    "a) Add a HW2 directory to your git repo through the terminal with a HW.md file that says \"This is for homework 2.\"\n",
    "\n",
    "<span style=\"color:purple\">In my BIOS512 git repo from my terminal, I added the following code:<span>"
   ]
  },
  {
   "cell_type": "raw",
   "id": "56a741f7-324e-44bd-8abf-ab604b6dab7f",
   "metadata": {},
   "source": [
    "mkdir HW2 \n",
    "cd HW2\n",
    "echo \"This is for homework 2.\" > HW2.md"
   ]
  },
  {
   "cell_type": "markdown",
   "id": "0a600019",
   "metadata": {},
   "source": [
    "b) *Add* HW2.md to the staging area. Then, use the command to see which files have been modified, staged for commit, or are untracked. What does it show?\n",
    "They should copy paste the terminal response after git status, and show that key used the commands below."
   ]
  },
  {
   "cell_type": "raw",
   "id": "bb257285-593e-41c4-a2b6-769a33cd8a03",
   "metadata": {},
   "source": [
    "git add HW2.md\n",
    "git status"
   ]
  },
  {
   "cell_type": "markdown",
   "id": "433c2c33-b212-4b9e-ab2c-bf87194d7a2c",
   "metadata": {},
   "source": [
    "<span style=\"color:purple\">Status showed:<span>\n",
    "```\n",
    "On branch main\n",
    "Your branch is up to date with 'origin/main'.\n",
    "\n",
    "Changes to be committed:\n",
    "  (use \"git restore --staged <file>...\" to unstage)\n",
    "\tnew file:   HW2.md\n",
    "\n",
    "Changes not staged for commit:\n",
    "  (use \"git add <file>...\" to update what will be committed)\n",
    "  (use \"git restore <file>...\" to discard changes in working directory)\n",
    "\tmodified:   ../Homework/BIOS512_HW3_Brookes.ipynb\n",
    "\n",
    "```"
   ]
  },
  {
   "cell_type": "markdown",
   "id": "51a1c8a9",
   "metadata": {},
   "source": [
    "c) Save file changes to the main branch."
   ]
  },
  {
   "cell_type": "raw",
   "id": "c858943e-73f5-4b12-bd1a-d02671d2459a",
   "metadata": {},
   "source": [
    "git commit -m \"Add HW2 folder and HW2.md file\"\n",
    "git push -u origin main"
   ]
  },
  {
   "cell_type": "markdown",
   "id": "7ab5dd9a",
   "metadata": {},
   "source": [
    "d) Now, edit the HW2.md file to give it a title."
   ]
  },
  {
   "cell_type": "raw",
   "id": "39a5fbc7-c9cc-4461-b578-21d4e1672cd2",
   "metadata": {},
   "source": [
    "cat <<EOF > HW2.md\n",
    "# Homework 2\n",
    "Example of editing documents in Git in HW3.\n",
    "EOF"
   ]
  },
  {
   "cell_type": "markdown",
   "id": "1e1dcc41-ef99-4c89-b5a0-03d86ad5a609",
   "metadata": {},
   "source": [
    "e) Use the command that compares current, unsaved changes to the main branch. What does it say?\\\n",
    "\n",
    "<span style=\"color:purple\">Command:<span>\n",
    "    \n",
    "`git diff`\n",
    "\n",
    "<span style=\"color:purple\">Output:<span>"
   ]
  },
  {
   "cell_type": "raw",
   "id": "f6de4849-549a-4777-ab44-9abec5ebbcde",
   "metadata": {},
   "source": [
    "diff --git a/HW2/HW2.md b/HW2/HW2.md\n",
    "index 1a010d3..2eaef26 100644\n",
    "--- a/HW2/HW2.md\n",
    "+++ b/HW2/HW2.md\n",
    "@@ -1 +1,2 @@\n",
    "-This is for homework 2.\n",
    "+# Homework 2\n",
    "+Example of editing documents in Git in HW3."
   ]
  },
  {
   "cell_type": "markdown",
   "id": "9394b1a2-15b3-4b6c-bc11-c2b0f174f5e2",
   "metadata": {},
   "source": [
    "f) Use the command that checks the status of the working directory and the staging area *again*. What does it say?\n",
    "<span style=\"color:purple\">Command:<span>\n",
    "    \n",
    "`git status`\n",
    "\n",
    "<span style=\"color:purple\">Output:<span>"
   ]
  },
  {
   "cell_type": "raw",
   "id": "0314529e-4db8-45ec-8c9f-dc7f54447843",
   "metadata": {},
   "source": [
    "On branch main\n",
    "Your branch is up to date with 'origin/main'.\n",
    "\n",
    "Changes not staged for commit:\n",
    "  (use \"git add <file>...\" to update what will be committed)\n",
    "  (use \"git restore <file>...\" to discard changes in working directory)\n",
    "\tmodified:   HW2.md\n",
    "\tmodified:   ../Homework/.ipynb_checkpoints/BIOS512_HW3_Brookes-checkpoint.ipynb\n",
    "\tmodified:   ../Homework/BIOS512_HW3_Brookes.ipynb\n",
    "\n",
    "no changes added to commit (use \"git add\" and/or \"git commit -a\")"
   ]
  },
  {
   "cell_type": "markdown",
   "id": "dd391254",
   "metadata": {},
   "source": [
    "g) Once again, add HW2.md to the staging area and save the file changes to the main branch. Then, get use the command that gives you project history and paste the output in your homework.\n",
    "\n",
    "<span style=\"color:purple\">Commands:<span>\n",
    "    \n",
    "`git add HW2.md`\n",
    "\n",
    "`git commit -m \"Updated HW2.md with a Title\"`\n",
    "\n",
    "`git push`\n",
    "\n",
    "`git log`\n",
    "\n",
    "<span style=\"color:purple\">Output:<span>\n"
   ]
  },
  {
   "cell_type": "raw",
   "id": "0324260d-0793-4aaf-b2af-60978709b3dc",
   "metadata": {},
   "source": [
    "commit 94454d90ac235a3054c7ee1a92689f12bbf763c0 (HEAD -> main, origin/main)\n",
    "Author: Jama Brookes <brookesjj@Mac.lan>\n",
    "Date:   Tue Sep 9 17:11:20 2025 -0400\n",
    "\n",
    "    Updated HW2.md with a Title\n",
    "\n",
    "commit 584b86f809f79f4a97968926035b79dea37eb2d2\n",
    "Author: Jama Brookes <brookesjj@Mac.lan>\n",
    "Date:   Tue Sep 9 16:24:38 2025 -0400\n",
    "\n",
    "    Add HW2 folder and HW2.md file\n",
    "\n",
    "commit 794a793d3187f32d0837fe93055a5d0c14549976\n",
    "Author: Jama Brookes <brookesjj@Mac.lan>\n",
    "Date:   Tue Sep 9 16:08:46 2025 -0400\n",
    "\n",
    "    Add homework folder\n",
    "\n",
    "commit 4115c83e72013300cf8afe0988a419295ddb17de\n",
    "Author: Jama Brookes <brookesjj@Mac.lan>\n",
    "Date:   Tue Sep 9 15:14:58 2025 -0400\n",
    "\n",
    "    First commit"
   ]
  },
  {
   "cell_type": "markdown",
   "id": "a19411e1",
   "metadata": {},
   "source": [
    "h) Do some searching... What `git` command will provide you documentation on other commands? Use that command to find documentation on `git log` and `git show`. What does `--since` mean in regards to `git log`? Copy and paste what is written in the documentation.\n",
    "\n",
    "<span style=\"color:purple\">Command:<span>\n",
    "    \n",
    "`git log --help`\n",
    "\n",
    "`git show --help`\n",
    "\n",
    "<span style=\"color:purple\">Output:<span>"
   ]
  },
  {
   "cell_type": "raw",
   "id": "9f635669-8505-4070-9277-52a17195cfca",
   "metadata": {},
   "source": [
    "--since=<date>, --after=<date>\n",
    "        Show commits more recent than <date>."
   ]
  },
  {
   "cell_type": "markdown",
   "id": "ba302ef2",
   "metadata": {},
   "source": [
    "## Tidyverse\n",
    "\n",
    "Note: Please make sure Binder is set up correctly to run this section. You can follow the instructions here: https://github.com/rjenki/BIOS512. "
   ]
  },
  {
   "cell_type": "markdown",
   "id": "78255223",
   "metadata": {},
   "source": [
    "**Please show your code for this section!** Before completing this section, please run the following."
   ]
  },
  {
   "cell_type": "code",
   "execution_count": 1,
   "id": "1f1bd613",
   "metadata": {
    "vscode": {
     "languageId": "r"
    }
   },
   "outputs": [
    {
     "name": "stderr",
     "output_type": "stream",
     "text": [
      "── \u001b[1mAttaching core tidyverse packages\u001b[22m ──────────────────────── tidyverse 2.0.0 ──\n",
      "\u001b[32m✔\u001b[39m \u001b[34mdplyr    \u001b[39m 1.1.4     \u001b[32m✔\u001b[39m \u001b[34mreadr    \u001b[39m 2.1.5\n",
      "\u001b[32m✔\u001b[39m \u001b[34mforcats  \u001b[39m 1.0.0     \u001b[32m✔\u001b[39m \u001b[34mstringr  \u001b[39m 1.5.1\n",
      "\u001b[32m✔\u001b[39m \u001b[34mggplot2  \u001b[39m 3.5.2     \u001b[32m✔\u001b[39m \u001b[34mtibble   \u001b[39m 3.3.0\n",
      "\u001b[32m✔\u001b[39m \u001b[34mlubridate\u001b[39m 1.9.4     \u001b[32m✔\u001b[39m \u001b[34mtidyr    \u001b[39m 1.3.1\n",
      "\u001b[32m✔\u001b[39m \u001b[34mpurrr    \u001b[39m 1.1.0     \n",
      "── \u001b[1mConflicts\u001b[22m ────────────────────────────────────────── tidyverse_conflicts() ──\n",
      "\u001b[31m✖\u001b[39m \u001b[34mdplyr\u001b[39m::\u001b[32mfilter()\u001b[39m masks \u001b[34mstats\u001b[39m::filter()\n",
      "\u001b[31m✖\u001b[39m \u001b[34mdplyr\u001b[39m::\u001b[32mlag()\u001b[39m    masks \u001b[34mstats\u001b[39m::lag()\n",
      "\u001b[36mℹ\u001b[39m Use the conflicted package (\u001b[3m\u001b[34m<http://conflicted.r-lib.org/>\u001b[39m\u001b[23m) to force all conflicts to become errors\n"
     ]
    }
   ],
   "source": [
    "library(tidyverse)\n",
    "if (!dir.exists(\"intermediate\")) dir.create(\"intermediate\", recursive = TRUE)\n",
    "if (!exists(\"mdpre\")) mdpre <- function(x) { print(x) }\n",
    "if (!exists(\"ggmd\"))  ggmd  <- function(p) { print(p) }"
   ]
  },
  {
   "cell_type": "markdown",
   "id": "7a5eb54a",
   "metadata": {},
   "source": [
    "### Question 5\n",
    "\n",
    "Download the patient_names.csv and patient_properties.csv files from Canvas and read them into R. Manually set the date columns to be date variables. Print the first 10 observations of each."
   ]
  },
  {
   "cell_type": "code",
   "execution_count": null,
   "id": "e547c1c0-69e3-4740-9fda-f06fac143b50",
   "metadata": {},
   "outputs": [],
   "source": []
  },
  {
   "cell_type": "markdown",
   "id": "cc6f646b",
   "metadata": {},
   "source": [
    "### Question 6\n",
    "In the data frame pulled from patient_properties, you'll notice that the data is long, not wide. Do a pivot to make the properties their own columns. Print the first 10 observations after you do so."
   ]
  },
  {
   "cell_type": "markdown",
   "id": "dffb85c3",
   "metadata": {},
   "source": [
    "### Question 7\n",
    "Perform a left join of the names and properties_wide data frames by the ID column and print the first 10 rows."
   ]
  },
  {
   "cell_type": "markdown",
   "id": "5f82272f",
   "metadata": {},
   "source": [
    "### Question 8\n",
    "Notice something interesting about the names in our data set. Fix the name formatting and print the first 10 observations."
   ]
  },
  {
   "cell_type": "markdown",
   "id": "c6f65807",
   "metadata": {},
   "source": [
    "### Question 9\n",
    "Using a for statement to loop through the categorical variables (excluding name and ID), print the counts of each unique value in descending order, using the mdpre() function for formatting."
   ]
  },
  {
   "cell_type": "markdown",
   "id": "9c872f41",
   "metadata": {},
   "source": [
    "### Question 10\n",
    "If you see any weird values, get rid of the ones that don't make sense, and combine the ones that are formatted wrong. Don't forget ot check the dates! Print the new tables for categorical values, and print the date ranges."
   ]
  },
  {
   "cell_type": "markdown",
   "id": "b4c83785",
   "metadata": {},
   "source": [
    "### Question 11\n",
    "Make a histogram of the ages of patients by gender. "
   ]
  },
  {
   "cell_type": "markdown",
   "id": "e41b7170",
   "metadata": {},
   "source": [
    "### Question 12\n",
    "Make a scatterplot of birthdate by martial status."
   ]
  }
 ],
 "metadata": {
  "kernelspec": {
   "display_name": "R",
   "language": "R",
   "name": "ir"
  },
  "language_info": {
   "codemirror_mode": "r",
   "file_extension": ".r",
   "mimetype": "text/x-r-source",
   "name": "R",
   "pygments_lexer": "r",
   "version": "4.5.1"
  }
 },
 "nbformat": 4,
 "nbformat_minor": 5
}
