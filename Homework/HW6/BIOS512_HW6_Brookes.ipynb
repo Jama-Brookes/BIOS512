{
 "cells": [
  {
   "cell_type": "raw",
   "id": "1d3dadd5",
   "metadata": {},
   "source": [
    "---\n",
    "title: \"Homework 6\"\n",
    "output: pdf_document\n",
    "wrap: sentence\n",
    "---"
   ]
  },
  {
   "cell_type": "markdown",
   "id": "96599347",
   "metadata": {},
   "source": [
    "# Homework 6\n",
    "\n",
    "Student Name: Jama Brookes\n",
    "\n",
    "This homework builds on the effective visualization workshop with the Star Trek data.\n",
    "Below is what we completed in class.\n",
    "Output is suppressed for readability, but you can remove the supression on your code if you'd like."
   ]
  },
  {
   "cell_type": "code",
   "execution_count": null,
   "id": "82fca119",
   "metadata": {},
   "outputs": [],
   "source": [
    "invisible({\n",
    "suppressPackageStartupMessages(library(tidyverse))\n",
    "\n",
    "# Get the data.\n",
    "dialogs <- read_csv(\n",
    "  \"https://raw.githubusercontent.com/Vincent-Toups/bios512/fcbc65a2696c7cff80d0f6ed1dd5c97abf0ef800/effective-visualization/source_data/tng.csv\",\n",
    "  show_col_types = FALSE\n",
    ")\n",
    "head(dialogs, 10) # Showing first 10 observations\n",
    "\n",
    "# Checkout the data.\n",
    "names(dialogs)\n",
    "dialogs %>% group_by(character) %>% tally() %>% arrange(desc(n))\n",
    "dialogs %>% mutate(dialog_length=str_length(dialog)) %>% group_by(character) %>% summarize(mean_dialog_length = mean(dialog_length)) %>% arrange(desc(mean_dialog_length))\n",
    "\n",
    "# Fix weird data.\n",
    "dialogs %>% filter(character==\"BEVERLY'S\")\n",
    "\n",
    "dialogs_fixed <- dialogs %>%\n",
    "  mutate(\n",
    "    character = str_replace_all(character, \"'S.*$\", \"\"),\n",
    "    character = str_replace_all(character, \" VOICE\", \"\"),\n",
    "    character = str_replace_all(character, \"\\\\.\", \"\"),\n",
    "    character = str_replace_all(character, \"'\", \"\"),\n",
    "    character = str_replace_all(character, \"S COM\", \"\"),\n",
    "    character = str_replace_all(character, \" COM\", \"\"),\n",
    "    dialog_length = str_length(dialog)\n",
    "  ) %>%\n",
    "  filter(character %in% unlist(str_split(\"PICARD RIKER DATA TROI BEVERLY WORF WESLEY GEORDI\", \" \")))\n",
    "\n",
    "dialogs_fixed %>% group_by(character) %>% summarize(mean_dialog_length = mean(dialog_length), std_dialog_length=sd(dialog_length)) %>% arrange(desc(mean_dialog_length))\n",
    "\n",
    "dialog_len_per_ep <- dialogs_fixed %>% group_by(character, episode_number) %>% summarize(mean_dialog_length = mean(dialog_length), std_dialog_length=sd(dialog_length), .groups = \"drop\") %>% arrange(desc(mean_dialog_length))\n",
    "\n",
    "dialog_len_per_ep\n",
    "\n",
    "# Plot the data.\n",
    "ggplot(dialogs_fixed) + geom_density(aes(x=dialog_length))\n",
    "\n",
    "for_factor <- dialog_len_per_ep %>% group_by(character) %>% summarise(m=mean(mean_dialog_length)) %>% arrange(desc(m))\n",
    "ggplot(dialog_len_per_ep, aes(factor(character,for_factor$character), mean_dialog_length)) + geom_boxplot()\n",
    "\n",
    "dialog_len_per_ep <- dialogs_fixed %>% \n",
    "    group_by(character, episode_number) %>% \n",
    "    summarize(mean_dialog_length = mean(dialog_length), dialog_count=n(), .groups = \"drop\") %>% \n",
    "    arrange(desc(mean_dialog_length))\n",
    "\n",
    "ggplot(dialog_len_per_ep, aes(dialog_count, mean_dialog_length)) + geom_point(aes(color=character)) + facet_wrap(~character)\n",
    "})"
   ]
  },
  {
   "cell_type": "markdown",
   "id": "d1029edf",
   "metadata": {},
   "source": [
    "## Question 1\n",
    "\n",
    "In class, we left off on the plot below, which shows the distribution of dialog count by mean dialog length, where each point represents an episode.\n",
    "Interpret these results.\n",
    "How can we tell the character's role in the story by their plot?"
   ]
  },
  {
   "cell_type": "code",
   "execution_count": null,
   "id": "20e61f48",
   "metadata": {
    "lines_to_next_cell": 0
   },
   "outputs": [],
   "source": [
    "ggplot(dialog_len_per_ep, aes(dialog_count, mean_dialog_length)) + \n",
    "    geom_point(aes(color=character)) + \n",
    "    facet_wrap(~character)"
   ]
  },
  {
   "cell_type": "markdown",
   "id": "b8ffae3f",
   "metadata": {},
   "source": [
    "Using information from the plot, we can determine how many episodes these characters spoke in by how many total individual points plotted. We then can assess the importance of their roles by how many times they spoke in each episode (dialog_count) and the mean length of dialog when they spoke (mean_dialog_length). According to the plot, Picard was in many episodes (observed by the amount of points on the plot) and spoke often in the episodes with quite long dialog lengths on average. This suggests that Picard was a main character who often pushed the plot forward with their speaking role. In contract, Wesley was in a lot fewer episodes (observed by the fewer total points) and overall spoke a smaller amount of times with smaller average dialog length. This would suggest that Wesley was potentially a minor character or had a less frequent, supporting role."
   ]
  },
  {
   "cell_type": "markdown",
   "id": "d04b4de7",
   "metadata": {},
   "source": [
    "## Question 2\n",
    "\n",
    "#### a) Compare Beverly's mean dialog per episode vs. mean dialog count per episode from season 1 (episodes 102-126) to season 3 (episodes 149-174) in a table.\n",
    "\n",
    "*Hints*:\\\n",
    "- First, use `filter()` to get - 1) the dialog from only Beverly's character and 2) the episodes within the ranges given.\n",
    "- Then, add a season variable using `mutate()` with `case_when()`.\n",
    "- To create the means per episode, after your `mutate()` step, you'll need to `group_by()` season and episode number, then you can do your `summarize()` step to get the means by episode.\n",
    "At the end of the `summary()` statement (inside the parenthesis), add `.groups=\"drop\"`.\n",
    "- Then, to get the mean of means, you'll do the same as above, but only grouping by season."
   ]
  },
  {
   "cell_type": "code",
   "execution_count": null,
   "id": "1544dfba",
   "metadata": {},
   "outputs": [],
   "source": [
    "str(dialog_len_per_ep)\n",
    "#creating season variable\n",
    "dialog_len_per_ep <- dialog_len_per_ep %>% mutate(season = case_when(\n",
    "           episode_number %in% (102:126) ~ 1,\n",
    "           episode_number %in% (127:148) ~ 2,\n",
    "           episode_number %in% (149:174) ~ 3))\n",
    "\n",
    "#Beverly's mean dialog length per season\n",
    "Beverly_means_episode <- dialog_len_per_ep %>% \n",
    "      filter(character == \"BEVERLY\" & episode_number %in% (102:174)) %>% \n",
    "      group_by(season, episode_number) %>%\n",
    "      summarize(mean_dialog = mean(mean_dialog_length), .groups = \"drop\") %>%\n",
    "      group_by(season) %>%\n",
    "      summarize(beverly_mean_per_ep = mean(mean_dialog), .groups = \"drop\")\n",
    "\n",
    "#Overall mean dialog length per season\n",
    "overall_means_per_episode <- dialog_len_per_ep %>%\n",
    "      filter(episode_number %in% 102:174) %>%\n",
    "      group_by(season, episode_number) %>%\n",
    "      summarize(mean_dialog = mean(mean_dialog_length), .groups = \"drop\") %>%\n",
    "      group_by(season) %>%\n",
    "      summarize(overall_mean_per_ep = mean(mean_dialog), .groups = \"drop\")\n",
    "\n",
    "#Combining tables\n",
    "Beverly_vs_overall <- Beverly_means_episode %>%\n",
    "      left_join(overall_means_per_episode, by = \"season\")\n",
    "\n",
    "#Printing table\n",
    "Beverly_vs_overall\n"
   ]
  },
  {
   "cell_type": "markdown",
   "id": "bc1c943a",
   "metadata": {},
   "source": [
    "#### b) In class, we talked about this character saying the actress has stated that after she was fired and rehired, the writers began giving her storylines that made her feel like a male character. How is this reflected in our table?\n",
    "\n",
    "In the first season, Beverly spoke more often than the average by about 3 words.However, in the 3rd season, Beverly's mean length of dialog for each season increased by 8 words compared to the overall mean for season 3.\n",
    "This suggests that Beverly got longer dialog overall, which would suggest a leadership/main role in the show that typically would be for male actors.\n",
    "\n",
    "## Question 3\n",
    "\n",
    "Let's compare the vocabulary richness (unique words / total words) of each character.\n",
    "#### a) Tokenize dialog into words, remove punctuation, convert to lowercase.\n",
    "Then filter out the stop words in the list below (from <https://gist.github.com/sebleier/554280>).\n",
    "*Hint*: Here's a template for that this step should look like:"
   ]
  },
  {
   "cell_type": "code",
   "execution_count": null,
   "id": "5b4d92b2",
   "metadata": {},
   "outputs": [],
   "source": [
    "stop_words <- c(\n",
    "  \"i\",\"me\",\"my\",\"myself\",\"we\",\"our\",\"ours\",\"ourselves\",\"you\",\"your\",\"yours\",\"yourself\",\n",
    "  \"yourselves\",\"he\",\"him\",\"his\",\"himself\",\"she\",\"her\",\"hers\",\"herself\",\"it\",\"its\",\"itself\",\n",
    "  \"they\",\"them\",\"their\",\"theirs\",\"themselves\",\"what\",\"which\",\"who\",\"whom\",\"this\",\"that\",\n",
    "  \"these\",\"those\",\"am\",\"is\",\"are\",\"was\",\"were\",\"be\",\"been\",\"being\",\"have\",\"has\",\"had\",\n",
    "  \"having\",\"do\",\"does\",\"did\",\"doing\",\"a\",\"an\",\"the\",\"and\",\"but\",\"if\",\"or\",\"because\",\"as\",\n",
    "  \"until\",\"while\",\"of\",\"at\",\"by\",\"for\",\"with\",\"about\",\"against\",\"between\",\"into\",\"through\",\n",
    "  \"during\",\"before\",\"after\",\"above\",\"below\",\"to\",\"from\",\"up\",\"down\",\"in\",\"out\",\"on\",\"off\",\n",
    "  \"over\",\"under\",\"again\",\"further\",\"then\",\"once\",\"here\",\"there\",\"when\",\"where\",\"why\",\"how\",\n",
    "  \"all\",\"any\",\"both\",\"each\",\"few\",\"more\",\"most\",\"other\",\"some\",\"such\",\"no\",\"nor\",\"not\",\n",
    "  \"only\",\"own\",\"same\",\"so\",\"than\",\"too\",\"very\",\"s\",\"t\",\"can\",\"will\",\"just\",\"don\",\"should\",\"now\"\n",
    ")\n",
    "\n",
    "\n",
    "tokens <- dialogs_fixed %>%\n",
    "  # Split each dialog into words\n",
    "  mutate(word_list = str_split(dialog, \"\\\\s+\")) %>%\n",
    "  \n",
    "  # Unnest the list column so each word is a row\n",
    "  unnest(word_list) %>%\n",
    "  \n",
    "  # Clean words\n",
    "  mutate(\n",
    "    word = str_remove_all(word_list, \"[[:punct:]]\"), # Remove punctuation\n",
    "    word = str_to_lower(word) # Convert to lowercase\n",
    "  ) %>%\n",
    "  \n",
    "  # Remove empty strings and stopwords\n",
    "  filter(word != \"\", !word %in% stop_words)\n",
    "\n",
    "head(tokens)"
   ]
  },
  {
   "cell_type": "markdown",
   "id": "20300d33",
   "metadata": {},
   "source": [
    "#### b) Count unique words per character. Print a summary table with the following columns: character, total words, unique words, and vocabulary richness.\n",
    "\n",
    "*Hint*: Group by character, then use `summarize()` to get what you want.\n",
    "You'll use `n_distinct()` to get the unique word counts.\n",
    "Arrange in descending value of vocabulary richness."
   ]
  },
  {
   "cell_type": "code",
   "execution_count": null,
   "id": "ce70d050",
   "metadata": {},
   "outputs": [],
   "source": [
    "vocab_richness <- tokens %>% \n",
    "  group_by(character) %>% \n",
    "  summarize(total_words = sum(dialog_length), \n",
    "            unique_words = n_distinct(word),\n",
    "            vocabulary_richness = unique_words/total_words) %>% \n",
    "  arrange(desc(vocabulary_richness))\n",
    "\n",
    "vocab_richness\n",
    "                                             "
   ]
  },
  {
   "cell_type": "markdown",
   "id": "c7f46115",
   "metadata": {},
   "source": [
    "#### c) Plot total words versus vocab richness.\n",
    "\n",
    "-   Use the character names as the \"points\".\n",
    "    -   *Hint*: Use `geom_text()` to add the character names as the points.\n",
    "-   Do not include a legend.\n",
    "    -   *Hint*: Use `theme()` to remove the legend.\n",
    "-   Add a title and axis titles.\n",
    "    -   *Hint*: Use `labs()` to add titles."
   ]
  },
  {
   "cell_type": "code",
   "execution_count": null,
   "id": "281c4069",
   "metadata": {
    "lines_to_next_cell": 2
   },
   "outputs": [],
   "source": [
    "vocab_richness %>% ggplot(aes(total_words, vocabulary_richness, group = character)) +\n",
    "  geom_text(aes(label = character)) +\n",
    "  theme(legend.position = \"none\") +\n",
    "  labs(x = \"Total Words\",\n",
    "       y = \"Vocabulary Richness\",\n",
    "       title = \"Vocabulary Richness by Total Words for each Character\")"
   ]
  },
  {
   "cell_type": "markdown",
   "id": "bc10b7ab",
   "metadata": {},
   "source": [
    "#### d) Interpret these results.\n",
    "\n",
    "There is an exponential decrease in vocabulary richness with the increase of total words. That means, as a character speaks many words, they are likely to have overall less unique words than characters who speak less often. Wesley has the highest vocabulary richness, likely because he appears less often, says less total words, but uses more unique words when speaking. This may suggest that Wesley has a large vocabulary, which may say something about his character's personality/role. However, having few total words spoken may inflate the \"vocabualry richness\" measure. On the other hand, Picard has the lowest vocabulary richness and highest amount of total words spoken. This may mean that Picard repeats a lot of phrases in the show that have high repetition.\n",
    "\n",
    "## Question 4\n",
    "\n",
    "#### a) Find what episode Wesley left the show as a main character and state it explicitly. Meaning, find the first significant gap where he is not found in more than two episodes in a row.\n",
    "\n",
    "*Hint*: It's after season 3 (ended at episode 174), so you can filter out seasons 1-3 and print Wesley's dialog count per episode.\n",
    "Then, scan the table for the gap."
   ]
  },
  {
   "cell_type": "code",
   "execution_count": null,
   "id": "41da0acf",
   "metadata": {},
   "outputs": [],
   "source": [
    "Wesley_leave <- dialog_len_per_ep %>% \n",
    "  filter(character == \"WESLEY\") %>% \n",
    "  arrange(episode_number)  %>% \n",
    "  mutate(prev_episode = lag(episode_number),\n",
    "    gap = episode_number - prev_episode) \n",
    "\n",
    "Wesley_leave %>% \n",
    "  filter(gap > 2) %>% \n",
    "  subset(select = c(character, episode_number, prev_episode, gap)) %>% \n",
    "  print()\n"
   ]
  },
  {
   "cell_type": "markdown",
   "id": "882f9576",
   "metadata": {},
   "source": [
    "Wesley first left the show as a main character in episode 183."
   ]
  },
  {
   "cell_type": "markdown",
   "id": "b8cced92",
   "metadata": {
    "lines_to_next_cell": 0
   },
   "source": [
    "#### b) After Wesley leaves the main cast, in which episodes does he make cameo appearances?"
   ]
  },
  {
   "cell_type": "code",
   "execution_count": null,
   "id": "513c5847",
   "metadata": {},
   "outputs": [],
   "source": [
    "Wesley_leave %>% filter(episode_number >183) %>% print()"
   ]
  },
  {
   "cell_type": "markdown",
   "id": "dd7549ad",
   "metadata": {},
   "source": [
    "He makes cameo appearances in episodes 206, 219, 263, and 272.\n",
    "\n",
    "#### c) Dig back into the data. Print:\n",
    "\n",
    "-   Wesley's last piece of dialog before he left the main cast.\n",
    "-   Wesley's last piece of dialog ever.\n",
    "\n",
    "*Hint*: To do this, you'll need to filter the `dialogs_fixed` data set to Welsey's lines and the episode number, and use `slice_tail(n = 1)` to get the last observation."
   ]
  },
  {
   "cell_type": "code",
   "execution_count": null,
   "id": "07c5df68",
   "metadata": {
    "lines_to_next_cell": 0
   },
   "outputs": [],
   "source": [
    "#last dialog before he left\n",
    "dialogs_fixed %>% \n",
    "  filter(character == \"WESLEY\", episode_number == c(183)) %>% \n",
    "  slice_tail(n = 1) %>% \n",
    "  print()\n",
    "\n",
    "#last dialog ever\n",
    "dialogs_fixed %>% \n",
    "  filter(character == \"WESLEY\", episode_number == c(272)) %>% \n",
    "  slice_tail(n = 1) %>% \n",
    "  print()"
   ]
  },
  {
   "cell_type": "markdown",
   "id": "a84982ca",
   "metadata": {},
   "source": [
    "-   Wesley's last piece of dialog before he left the main cast.\n",
    "\"I can walk.\"\n",
    "\n",
    "-   Wesley's last piece of dialog ever.\n",
    "\"Good-bye, Mom.\"\n",
    "\n",
    "## Question 5\n",
    "\n",
    "Create a heatmap with `dialog_len_per_ep` showing mean dialog length per episode for each character.\n",
    "Sort the characters on the y-axis by their overall mean dialog length, with the lowest on top using a factor.\n",
    "Add a title and an axis title.\n",
    "*Hints*: For the factor: 1.\n",
    "Compute overall mean (mean of mean) dialog length per character (`group_by()` then `summarize()`), and arrange the overall mean in ascending order.\n",
    "Add `pull(character)` to the end of this step so that you can use character as a factor in the next step.\n",
    "Store all of this in a new tibble.\n",
    "2.\n",
    "Convert character to factor with this order.\n",
    "On `dialog_len_per_ep`, you'll use a mutate statement to add the factor `(mutate(character = factor(character, levels = DATAFROMHINT1))`.\n",
    "3.\n",
    "Create heatmap using `geom_tile()`.\n",
    "4.\n",
    "If you want nicer colors, you can add `scale_fill_viridis_c()` (or another color scale) to your ggplot statement.\n",
    "**Not required**, but fun to mess around with!"
   ]
  },
  {
   "cell_type": "code",
   "execution_count": null,
   "id": "19c33aae",
   "metadata": {
    "lines_to_next_cell": 0
   },
   "outputs": [],
   "source": [
    "character_order <- dialog_len_per_ep %>% \n",
    "  group_by(character) %>% \n",
    "  summarise(mean_of_means = mean(mean_dialog_length)) %>% \n",
    "  arrange(desc(mean_of_means)) %>% \n",
    "  pull(character)\n",
    "\n",
    "dialog_len_per_ep <- dialog_len_per_ep %>% \n",
    "  mutate(character = factor(character, levels = character_order))\n",
    "\n",
    "dialog_len_per_ep %>% ggplot(aes(episode_number, character, fill = mean_dialog_length)) +\n",
    "  geom_tile() +\n",
    "  scale_fill_viridis_c() +\n",
    "  labs(title = \"Mean Dialog Length per Episode by Character\",\n",
    "    x = \"Episode Number\",\n",
    "    y = \"Character\") +\n",
    "  theme_minimal()"
   ]
  },
  {
   "cell_type": "markdown",
   "id": "8e2bcc38",
   "metadata": {},
   "source": []
  }
 ],
 "metadata": {
  "jupytext": {
   "cell_metadata_filter": "-all",
   "main_language": "R",
   "notebook_metadata_filter": "-all"
  }
 },
 "nbformat": 4,
 "nbformat_minor": 5
}
