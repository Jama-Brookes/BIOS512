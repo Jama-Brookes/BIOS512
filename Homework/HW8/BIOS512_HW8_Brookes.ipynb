{
 "cells": [
  {
   "cell_type": "raw",
   "id": "75549045",
   "metadata": {},
   "source": [
    "---\n",
    "title: BIOS 512 HW 8\n",
    "output: pdf_document\n",
    "---"
   ]
  },
  {
   "cell_type": "markdown",
   "id": "c6f41f74",
   "metadata": {},
   "source": [
    "# Homework 08\n",
    "## Student Name: Jama Brookes\n",
    "This homework is based on the clustering lectures. Check the lecture notes and TA notes - they should help!"
   ]
  },
  {
   "cell_type": "code",
   "execution_count": null,
   "id": "f96e0606",
   "metadata": {
    "lines_to_next_cell": 2,
    "tags": [
     "remove_cell"
    ]
   },
   "outputs": [],
   "source": [
    "library(dplyr)"
   ]
  },
  {
   "cell_type": "markdown",
   "id": "a2b62739",
   "metadata": {},
   "source": [
    "## Question 1\n",
    "This question will walk you through creating your own `kmeans` function."
   ]
  },
  {
   "cell_type": "markdown",
   "id": "fd9e67dd",
   "metadata": {},
   "source": [
    "#### a) What are the steps of `kmeans`?\n",
    "**Hint**: There are 4 steps/builder functions that you'll need.\n",
    "\n",
    "1. Assign points to clusters at random:\n",
    "2. Compute cluster means:\n",
    "Calculate average position of points inside cluster\n",
    "3. Iterate and reassign labels\n",
    "4. Recompute means\n",
    "Treat the calculated centers as the official centers"
   ]
  },
  {
   "cell_type": "markdown",
   "id": "f64f6f8e",
   "metadata": {
    "lines_to_next_cell": 0
   },
   "source": [
    "#### b) Create the builder function for step 1."
   ]
  },
  {
   "cell_type": "code",
   "execution_count": null,
   "id": "9e7ec539",
   "metadata": {
    "lines_to_next_cell": 2
   },
   "outputs": [],
   "source": [
    "label_randomly <- function(n_points, n_clusters){\n",
    "  sample((1:n_points %% n_clusters) + 1, n_points)\n",
    "}\n"
   ]
  },
  {
   "cell_type": "markdown",
   "id": "27404773",
   "metadata": {
    "lines_to_next_cell": 0
   },
   "source": [
    "#### c) Create the builder function for step 2."
   ]
  },
  {
   "cell_type": "code",
   "execution_count": null,
   "id": "a8fa3df8",
   "metadata": {
    "lines_to_next_cell": 2
   },
   "outputs": [],
   "source": [
    "get_cluster_means <- function(data, labels){\n",
    "  data %>%\n",
    "    mutate(label__ = labels) %>%        # create the label column\n",
    "    group_by(label__) %>%               # group by the same name\n",
    "    summarize(across(everything(), mean), .groups = \"drop\") %>%\n",
    "    arrange(label__)\n",
    "}"
   ]
  },
  {
   "cell_type": "markdown",
   "id": "75348a1b",
   "metadata": {
    "lines_to_next_cell": 0
   },
   "source": [
    "#### d) Create the builder function for step 3.\n",
    "*Hint*: There are two ways to do this part - one is significantly more efficient than the other. You can do either."
   ]
  },
  {
   "cell_type": "code",
   "execution_count": null,
   "id": "2fe7b23b",
   "metadata": {
    "lines_to_next_cell": 2
   },
   "outputs": [],
   "source": [
    "assign_cluster <- function(data, means){\n",
    "  data_matrix <- as.matrix(data)\n",
    "  means_matrix <- as.matrix(means %>% dplyr::select(-label__))\n",
    "  dii <- sort(rep(1:nrow(data), nrow(means)))\n",
    "  mii <- rep(1:nrow(means), nrow(data))\n",
    "  data_repped <- data_matrix[dii, ]\n",
    "  means_repped <- means_matrix[mii, ]\n",
    "  diff_squared <- (data_repped - means_repped)^2\n",
    "  all_distances <- rowSums(diff_squared)\n",
    "  tibble(dii=dii, mii=mii, distance=all_distances) %>%\n",
    "    group_by(dii) %>%\n",
    "    arrange(distance) %>%\n",
    "    filter(row_number()==1) %>%\n",
    "    ungroup() %>%\n",
    "    arrange(dii) %>%\n",
    "    pull(mii)\n",
    "}"
   ]
  },
  {
   "cell_type": "markdown",
   "id": "5bfff4eb",
   "metadata": {
    "lines_to_next_cell": 0
   },
   "source": [
    "#### e) Create the builder function for step 4."
   ]
  },
  {
   "cell_type": "code",
   "execution_count": null,
   "id": "0801ac75",
   "metadata": {
    "lines_to_next_cell": 2
   },
   "outputs": [],
   "source": [
    "kmeans_done <- function(old_means, new_means, eps = 1e-6){\n",
    "  om <- as.matrix(select(old_means, -label__))\n",
    "  nm <- as.matrix(select(new_means, -label__))\n",
    "  m <- mean(sqrt(rowSums((om - nm)^2)))\n",
    "  m < eps\n",
    "}"
   ]
  },
  {
   "cell_type": "markdown",
   "id": "04099797",
   "metadata": {
    "lines_to_next_cell": 0
   },
   "source": [
    "#### f) Combine them all into your own `kmeans` function."
   ]
  },
  {
   "cell_type": "code",
   "execution_count": null,
   "id": "575cd798",
   "metadata": {
    "lines_to_next_cell": 2
   },
   "outputs": [],
   "source": [
    "mykmeans <- function(data, n_clusters, eps = 1e-6){\n",
    "  labels <- label_randomly(nrow(data), n_clusters)\n",
    "  old_means <- get_cluster_means(data, labels)\n",
    "  done <- FALSE\n",
    "  while(!done){\n",
    "    labels <- assign_cluster(data, old_means)\n",
    "    new_means <- get_cluster_means(data, labels)\n",
    "    if(kmeans_done(old_means, new_means)){\n",
    "      done <- TRUE\n",
    "    } else {\n",
    "      old_means <- new_means\n",
    "    }\n",
    "  }\n",
    "  list(labels = labels, means = new_means)\n",
    "}"
   ]
  },
  {
   "cell_type": "markdown",
   "id": "db75791c",
   "metadata": {
    "lines_to_next_cell": 0
   },
   "source": [
    "## Question 2\n",
    "This is when we'll test your `kmeans` function.\n",
    "#### a) Read in the `voltages_df.csv` data set. "
   ]
  },
  {
   "cell_type": "code",
   "execution_count": null,
   "id": "f2058576",
   "metadata": {
    "lines_to_next_cell": 2
   },
   "outputs": [],
   "source": [
    "#load in data\n",
    "voltage_df <- read.csv(\"./voltages_df.csv\")"
   ]
  },
  {
   "cell_type": "markdown",
   "id": "631d9917",
   "metadata": {},
   "source": [
    "#### b) Call your `kmeans` function with 3 clusters. Print the results with `results$labels` and `results$means`. "
   ]
  },
  {
   "cell_type": "code",
   "execution_count": null,
   "id": "0ceb51ac",
   "metadata": {
    "lines_to_next_cell": 2
   },
   "outputs": [],
   "source": [
    "results_mykmeans <- mykmeans(voltage_df, n_clusters = 3)\n",
    "\n",
    "print(results_mykmeans$labels)\n",
    "print(results_mykmeans$means)"
   ]
  },
  {
   "cell_type": "markdown",
   "id": "47ac2f36",
   "metadata": {},
   "source": [
    "#### c) Call R's `kmeans` function with 3 clusters. Print the results with `results$centers` and `results$clusterr`. \n",
    "*Hint*: Use the `as.matrix()` function to make the `voltages_df` data frame a matrix before calling `kmeans()`."
   ]
  },
  {
   "cell_type": "code",
   "execution_count": null,
   "id": "ba4334ac",
   "metadata": {},
   "outputs": [],
   "source": [
    "results_Rkmeans <- kmeans(as.matrix(voltage_df), centers = 3)\n",
    "\n",
    "print(results_Rkmeans$cluster)\n",
    "as_tibble(results_Rkmeans$centers)\n"
   ]
  },
  {
   "cell_type": "markdown",
   "id": "7d5ac864",
   "metadata": {},
   "source": [
    "#### d) Are your labels/clusters the same? If not, why? Are your means the same?\n",
    "The labels are not the same, but this is expected because the labels are randomly generated in the beginning. Thus, the labels are arbitrary. The means that were calculated are the same across the created kmeans and R's built-in kmeans, but may be under different labels.\n",
    "\n",
    "## Question 3\n",
    "#### a) Explain the process of using a for loop to assign clusters for kmeans.\n",
    "It loops over all the points one at a time. It calculates the distance from all the cluster means and determines which is closest. It is essentially a double loop.\n",
    "\n",
    "#### b) Explain the process of vectorizing the code to assign clusters for kmeans.\n",
    "It creates two matrices of data the same size, and it is able to compare the data points to the cluster means at once by subtracting them. "
   ]
  },
  {
   "cell_type": "markdown",
   "id": "36742025",
   "metadata": {},
   "source": [
    "#### c) State which (for loops or vectorizing) is more efficient and why.\n",
    "Vectorizing! It repeats entries to create an index vector that then can be easily compared in on vectorized operation.\n",
    "\n",
    "## Question 4\n",
    "#### When does `kmeans` fail? What assumption does `kmeans` use that causes it to fail in this situation?\n",
    "Kmeans fails when we do not have spherical Gaussian data with similar standard deviations. For example, if we have two layered rings of groups, kmeans would not be able to classify the \"inner\" and \"outer\" rings as groups. It would also fail if we have elongated groups that were not circular in nature. This is because this data is not spherical Gaussian data and they would not be roughly the same size, which is a kmeans assumption.\n",
    "\n",
    "## Question 5\n",
    "#### What assumption do Gaussian mixture models make?\n",
    "Gaussian mixture models do not require that each cluster to be the same size because it assumes that the N Gaussian distributions have individual parameters calculated from the data. This allows Gaussian mixture models to identify clusters that are elongated or unequal sizes.\n",
    "\n",
    "## Question 6\n",
    "#### What assumption does spectral clustering make? Why does this help us?\n",
    "Special clustering makes very minimal assumptions on the data. It assumes that two points close to one another are likely to be in the same cluster. Because it does not rely on a vector space, it groups two things together by any critera. This helps us because it can identify points in similar clusters based on a criteria (like distance). It then creates a Graph Laplacian, which maps the connections. This then can be runned through kmeans to create clusters.\n",
    "\n",
    "## Question 7\n",
    "#### Define the gap statistic method. What do we use it for?\n",
    "The gap statistic method compares the clustering results for different numbers of clusters (k) to randomized data in the same data range. The tightness or density of the observed data is compared to the tightness and density of the randomzied data with the same number of k clusters. This is used to identify the best number of clusters to use to prevent overfitting or underfitting the data.\n"
   ]
  }
 ],
 "metadata": {
  "jupytext": {
   "cell_metadata_filter": "tags,-all",
   "main_language": "R",
   "notebook_metadata_filter": "-all"
  }
 },
 "nbformat": 4,
 "nbformat_minor": 5
}
