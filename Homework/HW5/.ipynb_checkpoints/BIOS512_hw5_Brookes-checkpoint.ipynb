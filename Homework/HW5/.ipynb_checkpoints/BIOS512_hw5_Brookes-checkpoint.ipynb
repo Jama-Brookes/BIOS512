{
 "cells": [
  {
   "cell_type": "markdown",
   "id": "a9fffe83-2e65-45b4-a7ae-eba928112210",
   "metadata": {},
   "source": [
    "# Homework 5\n",
    "This homework requires `wine.csv`, and the `tidyverse` and `Rtsne` packages. Install them if you haven't already!  \n",
    "See the following link for how to add new packages to Binder: https://github.com/rjenki/BIOS512?tab=readme-ov-file#adding-packages-to-installr-later.   \n",
    "**For readability and easier processing, please make each question part a different code chunk.**"
   ]
  },
  {
   "cell_type": "code",
   "execution_count": 2,
   "id": "bbce72f5-0c01-4f32-8dff-531bd32c3dfb",
   "metadata": {},
   "outputs": [
    {
     "ename": "ERROR",
     "evalue": "Error in convert_ipynb(\"./BIOS512_hw5_Brookes.ipynb\", output = xfun::with_ext(\"./BIOS512_HW5_Brookes.ipynb\", : could not find function \"convert_ipynb\"\n",
     "output_type": "error",
     "traceback": [
      "Error in convert_ipynb(\"./BIOS512_hw5_Brookes.ipynb\", output = xfun::with_ext(\"./BIOS512_HW5_Brookes.ipynb\", : could not find function \"convert_ipynb\"\nTraceback:\n"
     ]
    }
   ],
   "source": [
    "#exporting to rmd\n",
    "library(rmarkdown)\n",
    "convert_ipynb(\"./BIOS512_hw5_Brookes.ipynb\", output = xfun::with_ext(\"./BIOS512_HW5_Brookes.ipynb\", \"Rmd\"))"
   ]
  },
  {
   "cell_type": "code",
   "execution_count": 3,
   "id": "8cf42c8f-5d46-455a-85bd-2df6a53141d3",
   "metadata": {},
   "outputs": [
    {
     "ename": "ERROR",
     "evalue": "Error in library(Rtsne): there is no package called ‘Rtsne’\n",
     "output_type": "error",
     "traceback": [
      "Error in library(Rtsne): there is no package called ‘Rtsne’\nTraceback:\n",
      "1. stop(packageNotFoundError(package, lib.loc, sys.call()))"
     ]
    }
   ],
   "source": [
    "library(tidyverse)\n",
    "library(Rtsne)"
   ]
  },
  {
   "cell_type": "markdown",
   "id": "02234287-abef-4f5e-8045-b97a1c684af7",
   "metadata": {},
   "source": [
    "## Question 1  \n",
    "\n",
    "#### a) Import your data.  \n",
    "#### b) Check out the columns present using one of R's data frame summary.  \n",
    "#### c) Get summary statistics on the numeric variables.  "
   ]
  },
  {
   "cell_type": "markdown",
   "id": "8b014e07-ef4f-40f4-89f0-723538811150",
   "metadata": {},
   "source": [
    "## Question 2\n",
    "\n",
    "#### a) Scale and center your data  \n",
    "*Hint:* Use a `mutate()` statement across all columns **except class** with `function(x) as.numeric(scale(x))`.\n",
    "\n",
    "#### b) Based on what you saw in the summary statistic table from the imported data, why would scaling and centering this data be helpful before we perform PCA?\n"
   ]
  },
  {
   "cell_type": "markdown",
   "id": "087a7186-b2e5-42a1-bfab-ee2945878553",
   "metadata": {},
   "source": [
    "## Question 3\n",
    "\n",
    "#### a) Perform PCA\n",
    "\n",
    "#### b) How much of the total variance is explained by PC1? PC2? What function do we use to see that information?\n",
    "\n",
    "#### c) Why are we doing PCA first?\n",
    "\n",
    "#### d) What is the rotation matrix? Print it explicitly.  \n",
    "*Hint:* Check the notes for a simple way to do this!\n",
    "\n",
    "#### e) Plot PC1 vs. PC2, using the wine class as labels for coloring.  \n",
    "*Hint:* You'll first need a data set with only PC1 and PC2, then add back the class variable from your scaled data set with a `mutate()` statement. Then, you can use `color = factor(class)` in your `ggplot` statement.\n",
    "\n",
    "#### f) What do you see after plotting PC1 vs. PC2? What does this mean in context of wine classes?\n",
    "\n",
    "#### g) Give an example of data where PCA would fail. You can describe the data or do a simulation.  \n",
    "*Hint:* Our notes have a few examples!\n",
    "\n",
    "#### h) Explain the difference between vector space and manifold, and how these terms apply to what we did/will do with T-SNE.\n"
   ]
  },
  {
   "cell_type": "markdown",
   "id": "ec52868c-a2a4-412a-a621-bbe2d4d5020e",
   "metadata": {},
   "source": [
    "## Question 4\n",
    "#### a) Perform T-SNE\n",
    "Set `seed = 123`.  \n",
    "*Hint:* Subset your PCA results to PC1–PC10, add the class variable back in, remove duplicates, then perform T-SNE.\n",
    "\n",
    "#### b) Plot the results in 2D\n",
    "*Hint:* Convert your T-SNE results to a tibble and add back the class variable from your scaled data set using a `mutate()` statement. Then, you can use `color = factor(class)` in your `ggplot` statement.\n",
    "\n",
    "#### c) Why didn't we stop at PCA?\n",
    "\n",
    "\n",
    "#### d) What other types of data does this workflow make sense for?\n",
    "\n"
   ]
  },
  {
   "cell_type": "code",
   "execution_count": null,
   "id": "2463d088-5680-459f-b6e3-e3c294049f8a",
   "metadata": {},
   "outputs": [],
   "source": []
  },
  {
   "cell_type": "code",
   "execution_count": null,
   "id": "db1ddd87-8e4a-4c88-ab5f-5a74d462440b",
   "metadata": {},
   "outputs": [],
   "source": []
  },
  {
   "cell_type": "code",
   "execution_count": null,
   "id": "2807aadd-2551-4342-b684-800470ec2528",
   "metadata": {},
   "outputs": [],
   "source": []
  },
  {
   "cell_type": "code",
   "execution_count": null,
   "id": "6361a83b-134e-4a0f-bded-e88469b76576",
   "metadata": {},
   "outputs": [],
   "source": []
  },
  {
   "cell_type": "code",
   "execution_count": null,
   "id": "24f064f1-4eb9-4bb9-ba86-201a805c381e",
   "metadata": {},
   "outputs": [],
   "source": []
  }
 ],
 "metadata": {
  "kernelspec": {
   "display_name": "R",
   "language": "R",
   "name": "ir"
  },
  "language_info": {
   "codemirror_mode": "r",
   "file_extension": ".r",
   "mimetype": "text/x-r-source",
   "name": "R",
   "pygments_lexer": "r",
   "version": "4.5.1"
  }
 },
 "nbformat": 4,
 "nbformat_minor": 5
}
